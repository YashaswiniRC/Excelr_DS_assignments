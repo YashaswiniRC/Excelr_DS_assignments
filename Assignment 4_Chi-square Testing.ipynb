{
 "cells": [
  {
   "cell_type": "code",
   "execution_count": 1,
   "id": "f301827d-c6d2-40d4-b7a6-87e3101374dc",
   "metadata": {},
   "outputs": [],
   "source": [
    "import numpy as np\n",
    "import scipy.stats as stats\n",
    "observed = np.array([[50, 70],[80, 100],[60, 90],[30, 50],[20, 50]])"
   ]
  },
  {
   "cell_type": "code",
   "execution_count": 2,
   "id": "aeec25c0-53d8-4438-b157-ebca261a4e83",
   "metadata": {},
   "outputs": [],
   "source": [
    "# 1. State the Hypotheses:\n",
    "# H0 (null hypothesis): There is no significant association between the type of device and customer satisfaction level.\n",
    "# HA (alternative hypothesis): There is a significant association between the type of device and customer satisfaction level."
   ]
  },
  {
   "cell_type": "code",
   "execution_count": 3,
   "id": "95a241fb-678f-43d2-a91b-c8e5b653bb30",
   "metadata": {},
   "outputs": [],
   "source": [
    "# 2. Compute the Chi-Square Statistic:\n",
    "chi2_stat, p_val, dof, expected = stats.chi2_contingency(observed)"
   ]
  },
  {
   "cell_type": "code",
   "execution_count": 4,
   "id": "5ba41756-a368-4209-92a4-7f9653a633a1",
   "metadata": {},
   "outputs": [],
   "source": [
    "#3. Determine the Critical Value:\n",
    "alpha = 0.05 \n",
    "critical_value = stats.chi2.ppf(1 - alpha, dof)"
   ]
  },
  {
   "cell_type": "code",
   "execution_count": 5,
   "id": "c14ed35b-0d33-4c13-895e-ceff86366811",
   "metadata": {},
   "outputs": [],
   "source": [
    "# 4. Make a Decision:\n",
    "reject_null = chi2_stat > critical_value"
   ]
  },
  {
   "cell_type": "code",
   "execution_count": 6,
   "id": "b7b81774-0bfd-4b81-9681-fc9729b855fc",
   "metadata": {},
   "outputs": [
    {
     "name": "stdout",
     "output_type": "stream",
     "text": [
      "Chi-Square Test for Independence\n",
      "Observed Data:\n",
      " [[ 50  70]\n",
      " [ 80 100]\n",
      " [ 60  90]\n",
      " [ 30  50]\n",
      " [ 20  50]]\n",
      "\n",
      " Expected Frequencies:\n",
      " [[ 48.  72.]\n",
      " [ 72. 108.]\n",
      " [ 60.  90.]\n",
      " [ 32.  48.]\n",
      " [ 28.  42.]]\n",
      "\n",
      "Chi-Square Statistic: 5.638227513227513\n",
      "\n",
      "Degrees of Freedom: 4\n",
      "\n",
      "Critical Value: 9.487729036781154\n",
      "\n",
      "P-value: 0.22784371130697179\n",
      "\n",
      "Reject the null hypothesis: False\n",
      "\n",
      "\n",
      "Conclusion: There is no significant association between the type of device and customer satisfaction level.\n"
     ]
    }
   ],
   "source": [
    "print(\"Chi-Square Test for Independence\")\n",
    "print(\"Observed Data:\\n\",observed)\n",
    "print(\"\\n Expected Frequencies:\\n\",expected)\n",
    "print(\"\\nChi-Square Statistic:\",chi2_stat)\n",
    "print(\"\\nDegrees of Freedom:\",dof)\n",
    "print(\"\\nCritical Value:\",critical_value)\n",
    "print(\"\\nP-value:\",p_val)\n",
    "print(\"\\nReject the null hypothesis:\",reject_null)\n",
    "print(\"\\n\")\n",
    "\n",
    "if reject_null:\n",
    "    print(\"Conclusion: There is a significant association between the type of device and customer satisfaction level.\")\n",
    "else:\n",
    "    print(\"Conclusion: There is no significant association between the type of device and customer satisfaction level.\")"
   ]
  },
  {
   "cell_type": "code",
   "execution_count": null,
   "id": "c4c5f42e-6233-4e74-bcc3-c2d664312177",
   "metadata": {},
   "outputs": [],
   "source": []
  }
 ],
 "metadata": {
  "kernelspec": {
   "display_name": "Python 3 (ipykernel)",
   "language": "python",
   "name": "python3"
  },
  "language_info": {
   "codemirror_mode": {
    "name": "ipython",
    "version": 3
   },
   "file_extension": ".py",
   "mimetype": "text/x-python",
   "name": "python",
   "nbconvert_exporter": "python",
   "pygments_lexer": "ipython3",
   "version": "3.11.7"
  }
 },
 "nbformat": 4,
 "nbformat_minor": 5
}
