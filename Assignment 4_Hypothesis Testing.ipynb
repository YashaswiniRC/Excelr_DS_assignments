{
 "cells": [
  {
   "cell_type": "code",
   "execution_count": 1,
   "id": "80281c35-a4a3-4f38-a892-60a78a9384b0",
   "metadata": {},
   "outputs": [],
   "source": [
    "import numpy as np\n",
    "import scipy.stats as stats\n",
    "\n",
    "sample_mean = 3050 \n",
    "theoretical_mean = 1000 + 5 * 600  \n",
    "std_dev_X = 25 \n",
    "n = 25  \n",
    "alpha = 0.05  "
   ]
  },
  {
   "cell_type": "code",
   "execution_count": 2,
   "id": "99be29f6-1105-4bcb-95f3-13a265023596",
   "metadata": {},
   "outputs": [],
   "source": [
    "#1.State the Hypotheses:\n",
    "# H0 (null hypothesis): The weekly operating cost follows the theoretical model (mean = 4000).\n",
    "# HA (alternative hypothesis): The weekly operating cost is higher than the theoretical model (mean > 4000)."
   ]
  },
  {
   "cell_type": "code",
   "execution_count": 3,
   "id": "92a7f8c7-d56f-4a25-b2fa-6d9af6dbdfbe",
   "metadata": {},
   "outputs": [],
   "source": [
    "#2.Calculate the Test Statistic:\n",
    "std_dev_W = 5 * std_dev_X\n",
    "t_stat = (sample_mean - theoretical_mean) / (std_dev_W / np.sqrt(n))"
   ]
  },
  {
   "cell_type": "code",
   "execution_count": 4,
   "id": "252fbfc7-e3d5-414c-82b3-fcbe506f2c3f",
   "metadata": {},
   "outputs": [],
   "source": [
    "#3.Determine the Critical Value:\n",
    "critical_value = stats.norm.ppf(1 - alpha)"
   ]
  },
  {
   "cell_type": "code",
   "execution_count": 5,
   "id": "21cf0398-de65-42e3-bf72-c5f202dc7f88",
   "metadata": {},
   "outputs": [],
   "source": [
    "#4.Make a Decision:\n",
    "reject_null = t_stat > critical_value"
   ]
  },
  {
   "cell_type": "code",
   "execution_count": 6,
   "id": "a0c297ea-739e-437f-a27f-bebaaa09a151",
   "metadata": {},
   "outputs": [
    {
     "name": "stdout",
     "output_type": "stream",
     "text": [
      "Hypothesis Testing for Weekly Operating Costs\n",
      "\n",
      "Theoretical Mean Weekly Cost: 4000\n",
      "\n",
      "Sample Mean Weekly Cost: 3050\n",
      "\n",
      "Sample Size: 25\n",
      "\n",
      "Standard Deviation of Weekly Operating Cost: 125\n",
      "\n",
      "Test Statistic (t): -38.0\n",
      "\n",
      "Critical Value at alpha={alpha}: 1.6448536269514722\n",
      "\n",
      "Reject the null hypothesis: False\n",
      "\n",
      "\n",
      "Conclusion: There is not enough evidence to support the restaurant owners' claim that the weekly operating costs are higher than the model suggests.\n"
     ]
    }
   ],
   "source": [
    "print(\"Hypothesis Testing for Weekly Operating Costs\")\n",
    "print(\"\\nTheoretical Mean Weekly Cost:\",theoretical_mean)\n",
    "print(\"\\nSample Mean Weekly Cost:\",sample_mean)\n",
    "print(\"\\nSample Size:\",n)\n",
    "print(\"\\nStandard Deviation of Weekly Operating Cost:\",std_dev_W)\n",
    "print(\"\\nTest Statistic (t):\",t_stat)\n",
    "print(\"\\nCritical Value at alpha={alpha}:\",critical_value)\n",
    "print(\"\\nReject the null hypothesis:\",reject_null)\n",
    "print(\"\\n\")\n",
    "\n",
    "if reject_null:\n",
    "    print(\"Conclusion: There is strong evidence to support the restaurant owners' claim that the weekly operating costs are higher than the model suggests.\")\n",
    "else:\n",
    "    print(\"Conclusion: There is not enough evidence to support the restaurant owners' claim that the weekly operating costs are higher than the model suggests.\")"
   ]
  },
  {
   "cell_type": "code",
   "execution_count": null,
   "id": "d7c7235d-9378-4167-98d4-d06685067b95",
   "metadata": {},
   "outputs": [],
   "source": []
  }
 ],
 "metadata": {
  "kernelspec": {
   "display_name": "Python 3 (ipykernel)",
   "language": "python",
   "name": "python3"
  },
  "language_info": {
   "codemirror_mode": {
    "name": "ipython",
    "version": 3
   },
   "file_extension": ".py",
   "mimetype": "text/x-python",
   "name": "python",
   "nbconvert_exporter": "python",
   "pygments_lexer": "ipython3",
   "version": "3.11.7"
  }
 },
 "nbformat": 4,
 "nbformat_minor": 5
}
